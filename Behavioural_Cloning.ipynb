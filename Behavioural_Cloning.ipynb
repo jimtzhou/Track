{
  "nbformat": 4,
  "nbformat_minor": 0,
  "metadata": {
    "colab": {
      "name": "Behavioural Cloning.ipynb",
      "provenance": [],
      "collapsed_sections": [],
      "authorship_tag": "ABX9TyOe3nYFRAxd7XxQelbz6x3V",
      "include_colab_link": true
    },
    "kernelspec": {
      "name": "python3",
      "display_name": "Python 3"
    }
  },
  "cells": [
    {
      "cell_type": "markdown",
      "metadata": {
        "id": "view-in-github",
        "colab_type": "text"
      },
      "source": [
        "<a href=\"https://colab.research.google.com/github/jimtzhou/Track/blob/master/Behavioural_Cloning.ipynb\" target=\"_parent\"><img src=\"https://colab.research.google.com/assets/colab-badge.svg\" alt=\"Open In Colab\"/></a>"
      ]
    },
    {
      "cell_type": "code",
      "metadata": {
        "id": "fpqnZCJcGpO3",
        "colab_type": "code",
        "colab": {
          "base_uri": "https://localhost:8080/",
          "height": 35
        },
        "outputId": "1a03667c-eda9-4eb0-ab47-a045d606d1df"
      },
      "source": [
        "!git clone https://github.com/jimtzhou/Track"
      ],
      "execution_count": 36,
      "outputs": [
        {
          "output_type": "stream",
          "text": [
            "fatal: destination path 'Track' already exists and is not an empty directory.\n"
          ],
          "name": "stdout"
        }
      ]
    },
    {
      "cell_type": "code",
      "metadata": {
        "id": "RXI7BjicSOP4",
        "colab_type": "code",
        "colab": {
          "base_uri": "https://localhost:8080/",
          "height": 35
        },
        "outputId": "d4d2785b-33f8-4ac4-ee63-b91409e4fa8a"
      },
      "source": [
        "!ls Track\n",
        "\n"
      ],
      "execution_count": 37,
      "outputs": [
        {
          "output_type": "stream",
          "text": [
            "Behavioural_Cloning.ipynb  driving_log.csv  IMG\n"
          ],
          "name": "stdout"
        }
      ]
    },
    {
      "cell_type": "code",
      "metadata": {
        "id": "Uxx8lnO6TBpX",
        "colab_type": "code",
        "colab": {}
      },
      "source": [
        "import os\n",
        "import numpy as np\n",
        "import matplotlib.pyplot as plt\n",
        "import keras\n",
        "from keras.models import Sequential\n",
        "from keras.optimizers import Adam\n",
        "from keras.layers import Conv2D, MaxPooling2D, Dropout, Flatten, Dense\n",
        "import cv2\n",
        "from sklearn.utils import shuffle\n",
        "from sklearn.model_selection import train_test_split\n",
        "import pandas as pd\n",
        "import ntpath\n",
        "import random\n"
      ],
      "execution_count": 0,
      "outputs": []
    },
    {
      "cell_type": "code",
      "metadata": {
        "id": "C1h7QEjkTU2K",
        "colab_type": "code",
        "colab": {
          "base_uri": "https://localhost:8080/",
          "height": 243
        },
        "outputId": "14306d2c-8515-4d59-8646-c8c2ccea92f9"
      },
      "source": [
        "datadir = 'Track'\n",
        "columns = ['center', 'left', 'right', 'steering', 'throttle', 'reverse', 'speed']\n",
        "data = pd.read_csv(os.path.join(datadir, 'driving_log.csv'), names = columns)\n",
        "pd.set_option('display.max_colwidth', -1)\n",
        "data.head()"
      ],
      "execution_count": 39,
      "outputs": [
        {
          "output_type": "stream",
          "text": [
            "/usr/local/lib/python3.6/dist-packages/ipykernel_launcher.py:4: FutureWarning: Passing a negative integer is deprecated in version 1.0 and will not be supported in future version. Instead, use None to not limit the column width.\n",
            "  after removing the cwd from sys.path.\n"
          ],
          "name": "stderr"
        },
        {
          "output_type": "execute_result",
          "data": {
            "text/html": [
              "<div>\n",
              "<style scoped>\n",
              "    .dataframe tbody tr th:only-of-type {\n",
              "        vertical-align: middle;\n",
              "    }\n",
              "\n",
              "    .dataframe tbody tr th {\n",
              "        vertical-align: top;\n",
              "    }\n",
              "\n",
              "    .dataframe thead th {\n",
              "        text-align: right;\n",
              "    }\n",
              "</style>\n",
              "<table border=\"1\" class=\"dataframe\">\n",
              "  <thead>\n",
              "    <tr style=\"text-align: right;\">\n",
              "      <th></th>\n",
              "      <th>center</th>\n",
              "      <th>left</th>\n",
              "      <th>right</th>\n",
              "      <th>steering</th>\n",
              "      <th>throttle</th>\n",
              "      <th>reverse</th>\n",
              "      <th>speed</th>\n",
              "    </tr>\n",
              "  </thead>\n",
              "  <tbody>\n",
              "    <tr>\n",
              "      <th>0</th>\n",
              "      <td>C:\\Users\\Jimmy\\Desktop\\Self_Driving\\Sim\\Sim_Data\\IMG\\center_2020_05_19_17_55_06_214.jpg</td>\n",
              "      <td>C:\\Users\\Jimmy\\Desktop\\Self_Driving\\Sim\\Sim_Data\\IMG\\left_2020_05_19_17_55_06_214.jpg</td>\n",
              "      <td>C:\\Users\\Jimmy\\Desktop\\Self_Driving\\Sim\\Sim_Data\\IMG\\right_2020_05_19_17_55_06_214.jpg</td>\n",
              "      <td>0.0</td>\n",
              "      <td>0.0</td>\n",
              "      <td>0</td>\n",
              "      <td>0.000078</td>\n",
              "    </tr>\n",
              "    <tr>\n",
              "      <th>1</th>\n",
              "      <td>C:\\Users\\Jimmy\\Desktop\\Self_Driving\\Sim\\Sim_Data\\IMG\\center_2020_05_19_17_55_06_321.jpg</td>\n",
              "      <td>C:\\Users\\Jimmy\\Desktop\\Self_Driving\\Sim\\Sim_Data\\IMG\\left_2020_05_19_17_55_06_321.jpg</td>\n",
              "      <td>C:\\Users\\Jimmy\\Desktop\\Self_Driving\\Sim\\Sim_Data\\IMG\\right_2020_05_19_17_55_06_321.jpg</td>\n",
              "      <td>0.0</td>\n",
              "      <td>0.0</td>\n",
              "      <td>0</td>\n",
              "      <td>0.000078</td>\n",
              "    </tr>\n",
              "    <tr>\n",
              "      <th>2</th>\n",
              "      <td>C:\\Users\\Jimmy\\Desktop\\Self_Driving\\Sim\\Sim_Data\\IMG\\center_2020_05_19_17_55_06_426.jpg</td>\n",
              "      <td>C:\\Users\\Jimmy\\Desktop\\Self_Driving\\Sim\\Sim_Data\\IMG\\left_2020_05_19_17_55_06_426.jpg</td>\n",
              "      <td>C:\\Users\\Jimmy\\Desktop\\Self_Driving\\Sim\\Sim_Data\\IMG\\right_2020_05_19_17_55_06_426.jpg</td>\n",
              "      <td>0.0</td>\n",
              "      <td>0.0</td>\n",
              "      <td>0</td>\n",
              "      <td>0.000078</td>\n",
              "    </tr>\n",
              "    <tr>\n",
              "      <th>3</th>\n",
              "      <td>C:\\Users\\Jimmy\\Desktop\\Self_Driving\\Sim\\Sim_Data\\IMG\\center_2020_05_19_17_55_06_533.jpg</td>\n",
              "      <td>C:\\Users\\Jimmy\\Desktop\\Self_Driving\\Sim\\Sim_Data\\IMG\\left_2020_05_19_17_55_06_533.jpg</td>\n",
              "      <td>C:\\Users\\Jimmy\\Desktop\\Self_Driving\\Sim\\Sim_Data\\IMG\\right_2020_05_19_17_55_06_533.jpg</td>\n",
              "      <td>0.0</td>\n",
              "      <td>0.0</td>\n",
              "      <td>0</td>\n",
              "      <td>0.000078</td>\n",
              "    </tr>\n",
              "    <tr>\n",
              "      <th>4</th>\n",
              "      <td>C:\\Users\\Jimmy\\Desktop\\Self_Driving\\Sim\\Sim_Data\\IMG\\center_2020_05_19_17_55_06_633.jpg</td>\n",
              "      <td>C:\\Users\\Jimmy\\Desktop\\Self_Driving\\Sim\\Sim_Data\\IMG\\left_2020_05_19_17_55_06_633.jpg</td>\n",
              "      <td>C:\\Users\\Jimmy\\Desktop\\Self_Driving\\Sim\\Sim_Data\\IMG\\right_2020_05_19_17_55_06_633.jpg</td>\n",
              "      <td>0.0</td>\n",
              "      <td>0.0</td>\n",
              "      <td>0</td>\n",
              "      <td>0.000078</td>\n",
              "    </tr>\n",
              "  </tbody>\n",
              "</table>\n",
              "</div>"
            ],
            "text/plain": [
              "                                                                                    center  ...     speed\n",
              "0  C:\\Users\\Jimmy\\Desktop\\Self_Driving\\Sim\\Sim_Data\\IMG\\center_2020_05_19_17_55_06_214.jpg  ...  0.000078\n",
              "1  C:\\Users\\Jimmy\\Desktop\\Self_Driving\\Sim\\Sim_Data\\IMG\\center_2020_05_19_17_55_06_321.jpg  ...  0.000078\n",
              "2  C:\\Users\\Jimmy\\Desktop\\Self_Driving\\Sim\\Sim_Data\\IMG\\center_2020_05_19_17_55_06_426.jpg  ...  0.000078\n",
              "3  C:\\Users\\Jimmy\\Desktop\\Self_Driving\\Sim\\Sim_Data\\IMG\\center_2020_05_19_17_55_06_533.jpg  ...  0.000078\n",
              "4  C:\\Users\\Jimmy\\Desktop\\Self_Driving\\Sim\\Sim_Data\\IMG\\center_2020_05_19_17_55_06_633.jpg  ...  0.000078\n",
              "\n",
              "[5 rows x 7 columns]"
            ]
          },
          "metadata": {
            "tags": []
          },
          "execution_count": 39
        }
      ]
    },
    {
      "cell_type": "code",
      "metadata": {
        "id": "8hIrbpNPT0ku",
        "colab_type": "code",
        "colab": {
          "base_uri": "https://localhost:8080/",
          "height": 206
        },
        "outputId": "62de1fb8-b051-4fd4-d220-552a60b917a9"
      },
      "source": [
        "def path_leaf(path):\n",
        "  head, tail = ntpath.split(path)\n",
        "  return tail\n",
        "\n",
        "data['center'] = data['center'].apply(path_leaf)\n",
        "data['left'] = data['left'].apply(path_leaf)\n",
        "data['right'] = data['right'].apply(path_leaf)\n",
        "data.head()"
      ],
      "execution_count": 40,
      "outputs": [
        {
          "output_type": "execute_result",
          "data": {
            "text/html": [
              "<div>\n",
              "<style scoped>\n",
              "    .dataframe tbody tr th:only-of-type {\n",
              "        vertical-align: middle;\n",
              "    }\n",
              "\n",
              "    .dataframe tbody tr th {\n",
              "        vertical-align: top;\n",
              "    }\n",
              "\n",
              "    .dataframe thead th {\n",
              "        text-align: right;\n",
              "    }\n",
              "</style>\n",
              "<table border=\"1\" class=\"dataframe\">\n",
              "  <thead>\n",
              "    <tr style=\"text-align: right;\">\n",
              "      <th></th>\n",
              "      <th>center</th>\n",
              "      <th>left</th>\n",
              "      <th>right</th>\n",
              "      <th>steering</th>\n",
              "      <th>throttle</th>\n",
              "      <th>reverse</th>\n",
              "      <th>speed</th>\n",
              "    </tr>\n",
              "  </thead>\n",
              "  <tbody>\n",
              "    <tr>\n",
              "      <th>0</th>\n",
              "      <td>center_2020_05_19_17_55_06_214.jpg</td>\n",
              "      <td>left_2020_05_19_17_55_06_214.jpg</td>\n",
              "      <td>right_2020_05_19_17_55_06_214.jpg</td>\n",
              "      <td>0.0</td>\n",
              "      <td>0.0</td>\n",
              "      <td>0</td>\n",
              "      <td>0.000078</td>\n",
              "    </tr>\n",
              "    <tr>\n",
              "      <th>1</th>\n",
              "      <td>center_2020_05_19_17_55_06_321.jpg</td>\n",
              "      <td>left_2020_05_19_17_55_06_321.jpg</td>\n",
              "      <td>right_2020_05_19_17_55_06_321.jpg</td>\n",
              "      <td>0.0</td>\n",
              "      <td>0.0</td>\n",
              "      <td>0</td>\n",
              "      <td>0.000078</td>\n",
              "    </tr>\n",
              "    <tr>\n",
              "      <th>2</th>\n",
              "      <td>center_2020_05_19_17_55_06_426.jpg</td>\n",
              "      <td>left_2020_05_19_17_55_06_426.jpg</td>\n",
              "      <td>right_2020_05_19_17_55_06_426.jpg</td>\n",
              "      <td>0.0</td>\n",
              "      <td>0.0</td>\n",
              "      <td>0</td>\n",
              "      <td>0.000078</td>\n",
              "    </tr>\n",
              "    <tr>\n",
              "      <th>3</th>\n",
              "      <td>center_2020_05_19_17_55_06_533.jpg</td>\n",
              "      <td>left_2020_05_19_17_55_06_533.jpg</td>\n",
              "      <td>right_2020_05_19_17_55_06_533.jpg</td>\n",
              "      <td>0.0</td>\n",
              "      <td>0.0</td>\n",
              "      <td>0</td>\n",
              "      <td>0.000078</td>\n",
              "    </tr>\n",
              "    <tr>\n",
              "      <th>4</th>\n",
              "      <td>center_2020_05_19_17_55_06_633.jpg</td>\n",
              "      <td>left_2020_05_19_17_55_06_633.jpg</td>\n",
              "      <td>right_2020_05_19_17_55_06_633.jpg</td>\n",
              "      <td>0.0</td>\n",
              "      <td>0.0</td>\n",
              "      <td>0</td>\n",
              "      <td>0.000078</td>\n",
              "    </tr>\n",
              "  </tbody>\n",
              "</table>\n",
              "</div>"
            ],
            "text/plain": [
              "                               center  ...     speed\n",
              "0  center_2020_05_19_17_55_06_214.jpg  ...  0.000078\n",
              "1  center_2020_05_19_17_55_06_321.jpg  ...  0.000078\n",
              "2  center_2020_05_19_17_55_06_426.jpg  ...  0.000078\n",
              "3  center_2020_05_19_17_55_06_533.jpg  ...  0.000078\n",
              "4  center_2020_05_19_17_55_06_633.jpg  ...  0.000078\n",
              "\n",
              "[5 rows x 7 columns]"
            ]
          },
          "metadata": {
            "tags": []
          },
          "execution_count": 40
        }
      ]
    },
    {
      "cell_type": "code",
      "metadata": {
        "id": "gbYBU9_nUp2V",
        "colab_type": "code",
        "colab": {
          "base_uri": "https://localhost:8080/",
          "height": 283
        },
        "outputId": "096e2d83-7d1d-4e89-c90a-aa3e78419316"
      },
      "source": [
        "num_bins = 25\n",
        "samples_per_bin = 200\n",
        "hist, bins = np.histogram(data['steering'], num_bins)\n",
        "center = (bins[:-1] + bins[1:])*0.5\n",
        "\n",
        "plt.bar(center, hist, width=0.05)\n",
        "plt.plot((np.min(data['steering']), np.max(data['steering'])), (samples_per_bin,samples_per_bin))"
      ],
      "execution_count": 41,
      "outputs": [
        {
          "output_type": "execute_result",
          "data": {
            "text/plain": [
              "[<matplotlib.lines.Line2D at 0x7f46198f5cf8>]"
            ]
          },
          "metadata": {
            "tags": []
          },
          "execution_count": 41
        },
        {
          "output_type": "display_data",
          "data": {
            "image/png": "[encoded data removed]",
            "text/plain": [
              "<Figure size 432x288 with 1 Axes>"
            ]
          },
          "metadata": {
            "tags": [],
            "needs_background": "light"
          }
        }
      ]
    },
    {
      "cell_type": "code",
      "metadata": {
        "id": "eXfzHFaRVE6a",
        "colab_type": "code",
        "colab": {
          "base_uri": "https://localhost:8080/",
          "height": 338
        },
        "outputId": "8370ca4e-a7b9-4a18-a05d-26d6fd3dcb98"
      },
      "source": [
        "print('total_data', len(data))\n",
        "remove_list = []\n",
        "for j in range(num_bins):\n",
        "  list_= []\n",
        "  for i in range(len(data['steering'])):\n",
        "    if data['steering'][i] >= bins[j] and data['steering'][i] <= bins[j+1]:\n",
        "      list_.append(i)\n",
        "  list_ = shuffle(list_)\n",
        "  list_ = list_[samples_per_bin:]\n",
        "  remove_list.extend(list_)\n",
        "\n",
        "print('removed:', len(remove_list))\n",
        "data.drop(data.index[remove_list], inplace=True)\n",
        "print('remaining:', len(data))\n",
        "\n",
        "hist, _ = np.histogram(data['steering'], (num_bins))\n",
        "plt.bar(center, hist, width=0.05)\n",
        "plt.plot((np.min(data['steering']), np.max(data['steering'])), (samples_per_bin,samples_per_bin))"
      ],
      "execution_count": 46,
      "outputs": [
        {
          "output_type": "stream",
          "text": [
            "total_data 5234\n",
            "removed: 3924\n",
            "remaining: 1310\n"
          ],
          "name": "stdout"
        },
        {
          "output_type": "execute_result",
          "data": {
            "text/plain": [
              "[<matplotlib.lines.Line2D at 0x7f461b29ef28>]"
            ]
          },
          "metadata": {
            "tags": []
          },
          "execution_count": 46
        },
        {
          "output_type": "display_data",
          "data": {
            "image/png": "[encoded data removed]",
            "text/plain": [
              "<Figure size 432x288 with 1 Axes>"
            ]
          },
          "metadata": {
            "tags": [],
            "needs_background": "light"
          }
        }
      ]
    },
    {
      "cell_type": "code",
      "metadata": {
        "id": "3Y0I3aVhctHA",
        "colab_type": "code",
        "colab": {
          "base_uri": "https://localhost:8080/",
          "height": 164
        },
        "outputId": "5255edd4-83f3-4132-e051-d1c009f6d9d3"
      },
      "source": [
        "print(data.iloc[1])\n",
        "def load_img_steering(datadir, df):\n",
        "  image_path = []\n",
        "  steering = []\n",
        "  for i in range(len(data)):\n",
        "    indexed_data = data.iloc[i]\n",
        "    center, left, right = indexed_data[0], indexed_data[1], indexed_data[2]\n",
        "    image_path.append(os.path.join(datadir, center.strip()))\n",
        "    steering.append(float(indexed_data[3]))\n",
        "  image_paths = np.asarray(image_path)\n",
        "  steerings = np.asarray(steering)\n",
        "  return image_paths, steerings\n",
        "\n",
        "image_paths, steerings = load_img_steering(datadir + '/IMG', data)"
      ],
      "execution_count": 50,
      "outputs": [
        {
          "output_type": "stream",
          "text": [
            "center      center_2020_05_19_17_55_06_740.jpg\n",
            "left        left_2020_05_19_17_55_06_740.jpg  \n",
            "right       right_2020_05_19_17_55_06_740.jpg \n",
            "steering    0                                 \n",
            "throttle    0                                 \n",
            "reverse     0                                 \n",
            "speed       7.79554e-05                       \n",
            "Name: 5, dtype: object\n"
          ],
          "name": "stdout"
        }
      ]
    },
    {
      "cell_type": "code",
      "metadata": {
        "id": "6FTQbq-JiLsc",
        "colab_type": "code",
        "colab": {
          "base_uri": "https://localhost:8080/",
          "height": 54
        },
        "outputId": "529bc741-c391-4a41-d1bd-0487edbcc362"
      },
      "source": [
        "X_train, X_valid, y_train, y_valid = train_test_split(image_paths, steerings, test_size = 0.2, random_state = 6)\n",
        "print ('Training samples: {} \\nValid Samples: {}'.format(len(X_train), len(X_valid)))"
      ],
      "execution_count": 52,
      "outputs": [
        {
          "output_type": "stream",
          "text": [
            "Training samples: 1048 \n",
            "Valid Samples: 262\n"
          ],
          "name": "stdout"
        }
      ]
    },
    {
      "cell_type": "code",
      "metadata": {
        "id": "7_ZG3rKylf0Y",
        "colab_type": "code",
        "colab": {
          "base_uri": "https://localhost:8080/",
          "height": 299
        },
        "outputId": "f855c442-3e05-4e08-efda-7421d5539878"
      },
      "source": [
        "fig, axes = plt.subplots(1, 2, figsize =(12,4))\n",
        "axes[0].hist(y_train, bins=num_bins, width=0.05, color ='blue')\n",
        "axes[0].set_title('Training set')\n",
        "axes[1].hist(y_valid, bins = num_bins, width = 0.05, color = 'red')\n",
        "axes[1].set_title('Validation set')"
      ],
      "execution_count": 53,
      "outputs": [
        {
          "output_type": "execute_result",
          "data": {
            "text/plain": [
              "Text(0.5, 1.0, 'Validation set')"
            ]
          },
          "metadata": {
            "tags": []
          },
          "execution_count": 53
        },
        {
          "output_type": "display_data",
          "data": {
            "image/png": "[encoded data removed]",
            "text/plain": [
              "<Figure size 864x288 with 2 Axes>"
            ]
          },
          "metadata": {
            "tags": [],
            "needs_background": "light"
          }
        }
      ]
    },
    {
      "cell_type": "code",
      "metadata": {
        "id": "h63O2E4onPGm",
        "colab_type": "code",
        "colab": {}
      },
      "source": [
        ""
      ],
      "execution_count": 0,
      "outputs": []
    }
  ]
}